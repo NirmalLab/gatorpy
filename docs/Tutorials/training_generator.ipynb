{
 "cells": [
  {
   "cell_type": "code",
   "execution_count": 1,
   "metadata": {},
   "outputs": [],
   "source": [
    "# import packages\n",
    "import gator as ga\n",
    "import os"
   ]
  },
  {
   "cell_type": "code",
   "execution_count": 5,
   "metadata": {},
   "outputs": [],
   "source": [
    "# tonsil\n",
    "#marker = 'KI67'\n",
    "#image = '//research.files.med.harvard.edu/ImStor/sorger/data/RareCyte/ajit_johnson/Z121_AJ_Cycif_trial_run/Ton_378/registration/Ton_378_wo_cycle9.ome.tif'\n",
    "#quantification = '//research.files.med.harvard.edu/ImStor/sorger/data/RareCyte/ajit_johnson/Z121_AJ_Cycif_trial_run/Ton_378/quantification/Ton_378.csv'\n",
    "#segmentation = '//research.files.med.harvard.edu/ImStor/sorger/data/RareCyte/ajit_johnson/Z121_AJ_Cycif_trial_run/Ton_378/segmentation/Ton_378/cellRingMask.tif'\n",
    "\n",
    "# sardana\n",
    "#image = 'Z:/sorger/data/RareCyte/JL503_JERRY/TNP_2020/WD-76845-097.ome.tif'\n",
    "#quantification = 'Z:/sorger/analysis/SARDANA-097/quantification/cell-WD-76845-097.csv'\n",
    "#segmentation = 'Z:/sorger/analysis/SARDANA-097/segmentation/unmicst-WD-76845-097/cellRingMask.tif'\n",
    "\n",
    "# EMIT\n",
    "image = 'Z:/sorger/analysis/EMIT/TMA11/dearray/49.tif'\n",
    "quantification = 'Z:/sorger/analysis/EMIT/TMA11/quantification/unmicst-49.csv'"
   ]
  },
  {
   "cell_type": "code",
   "execution_count": 3,
   "metadata": {},
   "outputs": [],
   "source": [
    "outputDir = 'C:/Users/ajn16/Dropbox (Partners HealthCare)/Data/gator/data/ajn_training_data'\n",
    "#outputDir = '/Users/aj/Dropbox (Partners HealthCare)/Data/gator/data/ajn_training_data'"
   ]
  },
  {
   "cell_type": "markdown",
   "metadata": {},
   "source": [
    "## Step-1: Generate Thumbnails for Training Data"
   ]
  },
  {
   "cell_type": "code",
   "execution_count": 6,
   "metadata": {},
   "outputs": [
    {
     "name": "stdout",
     "output_type": "stream",
     "text": [
      "Processing Marker: ECAD_1_cellMask\n",
      "Mission Accomplished\n"
     ]
    }
   ],
   "source": [
    "ga.generateThumbnails (csvPath=quantification, \n",
    "                        imagePath=image, \n",
    "                        markers = [\"ECAD_1_cellMask\"], \n",
    "                        markerChannels = [10], \n",
    "                        outputDir=outputDir,\n",
    "                        transformation=True, \n",
    "                        maxThumbnails=1000, \n",
    "                        localNorm=True,\n",
    "                        globalNorm=False,\n",
    "                        x_coordinate='X_centroid', \n",
    "                        y_coordinate='Y_centroid',\n",
    "                        threshold=[2, 12, 88, 98], \n",
    "                        windowSize=64)"
   ]
  },
  {
   "cell_type": "code",
   "execution_count": 4,
   "metadata": {},
   "outputs": [
    {
     "name": "stdout",
     "output_type": "stream",
     "text": [
      "Processing: KI67\n"
     ]
    }
   ],
   "source": [
    "marker = 'CD4_488_cellRingMask'\n",
    "# list of folders to copy settings from\n",
    "copyFolder = [outputDir + '/GATOR/Thumbnails/localNorm/' + marker]\n",
    "# list of folders to apply setting to\n",
    "applyFolder = [outputDir + '/GATOR/Thumbnails/' + marker]\n",
    "# note: Every copyFolder should have a corresponding applyFolder. The order matters! \n",
    "\n",
    "# The function accepts the four pre-defined folders. If you had renamed them, please change it using the parameter below.\n",
    "ga.cloneFolder (copyFolder, \n",
    "                applyFolder, \n",
    "                TruePos='TruePos', TrueNeg='TrueNeg', \n",
    "                PosToNeg='PosToNeg', NegToPos='NegToPos')"
   ]
  },
  {
   "cell_type": "code",
   "execution_count": 5,
   "metadata": {},
   "outputs": [
    {
     "name": "stdout",
     "output_type": "stream",
     "text": [
      "Processing: KI67\n",
      "Mission Accomplished\n"
     ]
    }
   ],
   "source": [
    "# generate masks\n",
    "thumbnailFolder = [outputDir + '/GATOR/Thumbnails/' + marker]\n",
    "\n",
    "# The function accepts the four pre-defined folders. If you had renamed them, please change it using the parameter below.\n",
    "# If you had deleted any of the folders and are not using them, replace the folder name with `None` in the parameter.\n",
    "ga.generateTraining (thumbnailFolder, \n",
    "                     outputDir, \n",
    "                     file_extension=None,\n",
    "                     TruePos='TruePos', NegToPos='NegToPos',\n",
    "                     TrueNeg='TrueNeg', PosToNeg='PosToNeg')"
   ]
  }
 ],
 "metadata": {
  "kernelspec": {
   "display_name": "Python 3.9.13 ('gator')",
   "language": "python",
   "name": "python3"
  },
  "language_info": {
   "codemirror_mode": {
    "name": "ipython",
    "version": 3
   },
   "file_extension": ".py",
   "mimetype": "text/x-python",
   "name": "python",
   "nbconvert_exporter": "python",
   "pygments_lexer": "ipython3",
   "version": "3.9.13"
  },
  "orig_nbformat": 4,
  "vscode": {
   "interpreter": {
    "hash": "4cc739ea36c1451ee1df8d34d2d86be9a1593f78eca72e1b9831247d8334d669"
   }
  }
 },
 "nbformat": 4,
 "nbformat_minor": 2
}
