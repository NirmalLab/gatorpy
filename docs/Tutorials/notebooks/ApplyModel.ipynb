{
 "cells": [
  {
   "attachments": {},
   "cell_type": "markdown",
   "metadata": {},
   "source": [
    "# 🐊 Run the GATOR Prediction Algorithm on new images"
   ]
  },
  {
   "attachments": {},
   "cell_type": "markdown",
   "metadata": {},
   "source": [
    "**Download the [executable notebook](https://github.com/nirmalLab/gatorpy/blob/main/docs/Tutorials/notebooks/ApplyModel.ipynb) and [trained models]().**  \n",
    "For the purpose of this tutorial, replace the `gatorModel` folder within the exemplar data with the newly downloaded `gatorModel` directory. \n",
    "  \n",
    "Make sure you have completed `BuildModels` Tutorial before you try to execute this Jupyter Notebook!\n",
    "  \n",
    "Please keep in mind that the sample data is used for demonstration purposes only and has been simplified and reduced in size. It is solely intended for educational purposes on how to execute `Gator` and will not yeild any meaningful results.\n"
   ]
  },
  {
   "attachments": {},
   "cell_type": "markdown",
   "metadata": {},
   "source": [
    "**Running the Gator Prediction Algorithm involves the following steps:**\n",
    "- Run the `gatorPredict` function on a new image. It will produce an image with probability masks\n",
    "- Run the `generateGatorScore` function on the probability masks to generate the `gatorScores`\n",
    "- Run the `gatorObject` to create an anndata object with the `gatorScores` and pre-computed `single-cell table`\n",
    "- Lastly, run `gator`  on the gatorObject\n",
    "  \n",
    "**Note: To make things easy, all of the above steps can be run with a single command `gatorPipeline`.**  \n",
    "Typically, in production settings, `gatorPipeline` would be utilized, whereas step-by-step analysis would be employed for troubleshooting, model validation, and similar tasks that necessitate greater granularity or control."
   ]
  },
  {
   "cell_type": "code",
   "execution_count": 4,
   "metadata": {},
   "outputs": [],
   "source": [
    "# import packages in jupyter notebook (not needed for command line interface users)\n",
    "import gatorpy as ga"
   ]
  },
  {
   "cell_type": "code",
   "execution_count": 2,
   "metadata": {},
   "outputs": [],
   "source": [
    "# set the working directory & set paths to the example data\n",
    "cwd = '/Users/aj/Desktop/gatorExampleData'\n",
    "\n",
    "# Apply gatorModels\n",
    "imagePath = cwd + '/image/exampleImage.tif'\n",
    "markerChannelMapPath = cwd + '/markers.csv'\n",
    "gatorModelPath = cwd + '/GATOR/gatorModel/'\n",
    "\n",
    "# Generate gatorScores\n",
    "probabilityMaskPath = cwd + '/GATOR/gatorPredict/exampleImage_gatorPredict.ome.tif'\n",
    "segmentationPath = cwd + '/segmentation/exampleSegmentationMask.tif'"
   ]
  },
  {
   "attachments": {},
   "cell_type": "markdown",
   "metadata": {},
   "source": [
    "## Run the Gator Pipeline"
   ]
  },
  {
   "cell_type": "code",
   "execution_count": 3,
   "metadata": {},
   "outputs": [
    {
     "name": "stdout",
     "output_type": "stream",
     "text": [
      "loading data\n",
      "WARNING:tensorflow:From /opt/anaconda3/envs/gator/lib/python3.9/site-packages/keras/layers/normalization/batch_normalization.py:561: _colocate_with (from tensorflow.python.framework.ops) is deprecated and will be removed in a future version.\n",
      "Instructions for updating:\n",
      "Colocations handled automatically by placer.\n"
     ]
    },
    {
     "name": "stderr",
     "output_type": "stream",
     "text": [
      "/Users/aj/Dropbox (Partners HealthCare)/nirmal lab/softwares/gatorpy/gatorpy/UNet.py:137: UserWarning: `tf.layers.batch_normalization` is deprecated and will be removed in a future version. Please use `tf.keras.layers.BatchNormalization` instead. In particular, `tf.control_dependencies(tf.GraphKeys.UPDATE_OPS)` should not be used (consult the `tf.keras.layers.BatchNormalization` documentation).\n",
      "  bn = tf.nn.leaky_relu(tf.layers.batch_normalization(c00+shortcut, training=UNet2D.tfTraining))\n",
      "/Users/aj/Dropbox (Partners HealthCare)/nirmal lab/softwares/gatorpy/gatorpy/UNet.py:159: UserWarning: `tf.layers.batch_normalization` is deprecated and will be removed in a future version. Please use `tf.keras.layers.BatchNormalization` instead. In particular, `tf.control_dependencies(tf.GraphKeys.UPDATE_OPS)` should not be used (consult the `tf.keras.layers.BatchNormalization` documentation).\n",
      "  lbn = tf.nn.leaky_relu(tf.layers.batch_normalization(\n",
      "/Users/aj/Dropbox (Partners HealthCare)/nirmal lab/softwares/gatorpy/gatorpy/UNet.py:162: UserWarning: `tf.layers.dropout` is deprecated and will be removed in a future version. Please use `tf.keras.layers.Dropout` instead.\n",
      "  return tf.layers.dropout(lbn, 0.15, training=UNet2D.tfTraining)\n",
      "/Users/aj/Dropbox (Partners HealthCare)/nirmal lab/softwares/gatorpy/gatorpy/UNet.py:224: UserWarning: `tf.layers.batch_normalization` is deprecated and will be removed in a future version. Please use `tf.keras.layers.BatchNormalization` instead. In particular, `tf.control_dependencies(tf.GraphKeys.UPDATE_OPS)` should not be used (consult the `tf.keras.layers.BatchNormalization` documentation).\n",
      "  tf.layers.batch_normalization(tf.nn.conv2d(cc, luXWeights2, strides=[1, 1, 1, 1], padding='SAME'),\n"
     ]
    },
    {
     "name": "stdout",
     "output_type": "stream",
     "text": [
      "loading data\n",
      "loading data\n",
      "0\n",
      "1\n",
      "INFO:tensorflow:Restoring parameters from /Users/aj/Desktop/gatorExampleData/GATOR/gatorModel/ECAD/model.ckpt\n"
     ]
    },
    {
     "name": "stderr",
     "output_type": "stream",
     "text": [
      "/Users/aj/Dropbox (Partners HealthCare)/nirmal lab/softwares/gatorpy/gatorpy/UNet.py:245: UserWarning: `tf.layers.batch_normalization` is deprecated and will be removed in a future version. Please use `tf.keras.layers.BatchNormalization` instead. In particular, `tf.control_dependencies(tf.GraphKeys.UPDATE_OPS)` should not be used (consult the `tf.keras.layers.BatchNormalization` documentation).\n",
      "  return tf.layers.batch_normalization(\n"
     ]
    },
    {
     "name": "stdout",
     "output_type": "stream",
     "text": [
      "Model restored.\n",
      "Inference...\n",
      "loading data\n",
      "loading data\n",
      "loading data\n",
      "0\n",
      "1\n",
      "INFO:tensorflow:Restoring parameters from /Users/aj/Desktop/gatorExampleData/GATOR/gatorModel/CD3D/model.ckpt\n",
      "Model restored.\n",
      "Inference...\n"
     ]
    },
    {
     "name": "stderr",
     "output_type": "stream",
     "text": [
      "/Users/aj/Dropbox (Partners HealthCare)/nirmal lab/softwares/gatorpy/gatorpy/gator.py:390: RuntimeWarning: invalid value encountered in divide\n",
      "  below_midpoint = (below_midpoint - min_below) / range_below\n"
     ]
    }
   ],
   "source": [
    "# Manadatory parameters for running the gator pipeline\n",
    "projectDir = '/Users/aj/Desktop/gatorExampleData'\n",
    "imagePath = projectDir + '/image/exampleImage.tif'\n",
    "markerChannelMapPath = projectDir + '/markers.csv'\n",
    "gatorModelPath = projectDir + '/GATOR/gatorModel/'\n",
    "segmentationPath = projectDir + '/segmentation/exampleSegmentationMask.tif'\n",
    "spatialTablePath = projectDir + '/quantification/exampleSpatialTable.csv'\n",
    "\n",
    "# Run the pipeline\n",
    "ga.gatorPipeline(   \n",
    "                    # parameters for gatorPredict\n",
    "                    imagePath=imagePath,\n",
    "                    gatorModelPath=gatorModelPath,\n",
    "                    markerChannelMapPath=markerChannelMapPath,\n",
    "                    # parameters for generateGatorScore\n",
    "                    segmentationMaskPath=segmentationPath,\n",
    "                    # parameters for gatorObject\n",
    "                    spatialTablePath=spatialTablePath,\n",
    "                    # parameters to run gator\n",
    "                    # ..\n",
    "                    # common parameters\n",
    "                    verbose=False,\n",
    "                    projectDir=projectDir)\n"
   ]
  },
  {
   "attachments": {},
   "cell_type": "markdown",
   "metadata": {},
   "source": [
    "**Same function if the user wants to run it via Command Line Interface**\n",
    "```\n",
    "python gatorPipeline.py \\\n",
    "        --imagePath /Users/aj/Desktop/gatorExampleData/image/exampleImage.tif \\\n",
    "        --gatorModelPath /Users/aj/Desktop/gatorExampleData/GATOR/gatorModel/ \\\n",
    "        --markerChannelMapPath /Users/aj/Desktop/gatorExampleData/markers.csv \\\n",
    "        --segmentationMaskPath /Users/aj/Desktop/gatorExampleData/segmentation/exampleSegmentationMask.tif \\\n",
    "        --spatialTablePath /Users/aj/Desktop/gatorExampleData/quantification/exampleSpatialTable.csv \\\n",
    "        --projectDir /Users/aj/Desktop/gatorExampleData \\\n",
    "        --verbose True\n",
    "```"
   ]
  },
  {
   "cell_type": "markdown",
   "metadata": {},
   "source": [
    "## Step-1: Apply the generated Models on the Image of interest (Pixel Level)"
   ]
  },
  {
   "attachments": {},
   "cell_type": "markdown",
   "metadata": {},
   "source": [
    "The function `gatorPredict` is employed to make predictions about the expression of a specified marker on cells in new images using the models generated by `gatorTrain`. This calculation is done at the pixel level, resulting in an output image where the number of channels corresponds to the number of models applied to the input image. The parameter `markerChannelMapPath` is used to associate the image channel number with the relevant model to be applied."
   ]
  },
  {
   "cell_type": "code",
   "execution_count": 3,
   "metadata": {},
   "outputs": [
    {
     "ename": "TypeError",
     "evalue": "gatorPredict() got an unexpected keyword argument 'outputDir'",
     "output_type": "error",
     "traceback": [
      "\u001b[0;31m---------------------------------------------------------------------------\u001b[0m",
      "\u001b[0;31mTypeError\u001b[0m                                 Traceback (most recent call last)",
      "\u001b[1;32m/Users/aj/Dropbox (Partners HealthCare)/nirmal lab/softwares/gatorpy/docs/Tutorials/notebooks/ApplyModel.ipynb Cell 8\u001b[0m in \u001b[0;36m<cell line: 3>\u001b[0;34m()\u001b[0m\n\u001b[1;32m      <a href='vscode-notebook-cell:/Users/aj/Dropbox%20%28Partners%20HealthCare%29/nirmal%20lab/softwares/gatorpy/docs/Tutorials/notebooks/ApplyModel.ipynb#X10sZmlsZQ%3D%3D?line=0'>1</a>\u001b[0m outputDir \u001b[39m=\u001b[39m cwd\n\u001b[0;32m----> <a href='vscode-notebook-cell:/Users/aj/Dropbox%20%28Partners%20HealthCare%29/nirmal%20lab/softwares/gatorpy/docs/Tutorials/notebooks/ApplyModel.ipynb#X10sZmlsZQ%3D%3D?line=2'>3</a>\u001b[0m ga\u001b[39m.\u001b[39;49mgatorPredict( imagePath\u001b[39m=\u001b[39;49mimagePath,\n\u001b[1;32m      <a href='vscode-notebook-cell:/Users/aj/Dropbox%20%28Partners%20HealthCare%29/nirmal%20lab/softwares/gatorpy/docs/Tutorials/notebooks/ApplyModel.ipynb#X10sZmlsZQ%3D%3D?line=3'>4</a>\u001b[0m                  gatorModelPath\u001b[39m=\u001b[39;49mgatorModelPath,\n\u001b[1;32m      <a href='vscode-notebook-cell:/Users/aj/Dropbox%20%28Partners%20HealthCare%29/nirmal%20lab/softwares/gatorpy/docs/Tutorials/notebooks/ApplyModel.ipynb#X10sZmlsZQ%3D%3D?line=4'>5</a>\u001b[0m                  outputDir\u001b[39m=\u001b[39;49moutputDir, \n\u001b[1;32m      <a href='vscode-notebook-cell:/Users/aj/Dropbox%20%28Partners%20HealthCare%29/nirmal%20lab/softwares/gatorpy/docs/Tutorials/notebooks/ApplyModel.ipynb#X10sZmlsZQ%3D%3D?line=5'>6</a>\u001b[0m                  markerChannelMapPath\u001b[39m=\u001b[39;49mmarkerChannelMapPath, \n\u001b[1;32m      <a href='vscode-notebook-cell:/Users/aj/Dropbox%20%28Partners%20HealthCare%29/nirmal%20lab/softwares/gatorpy/docs/Tutorials/notebooks/ApplyModel.ipynb#X10sZmlsZQ%3D%3D?line=6'>7</a>\u001b[0m                  markerColumnName\u001b[39m=\u001b[39;49m\u001b[39m'\u001b[39;49m\u001b[39mmarker\u001b[39;49m\u001b[39m'\u001b[39;49m, \n\u001b[1;32m      <a href='vscode-notebook-cell:/Users/aj/Dropbox%20%28Partners%20HealthCare%29/nirmal%20lab/softwares/gatorpy/docs/Tutorials/notebooks/ApplyModel.ipynb#X10sZmlsZQ%3D%3D?line=7'>8</a>\u001b[0m                  channelColumnName\u001b[39m=\u001b[39;49m\u001b[39m'\u001b[39;49m\u001b[39mchannel\u001b[39;49m\u001b[39m'\u001b[39;49m, \n\u001b[1;32m      <a href='vscode-notebook-cell:/Users/aj/Dropbox%20%28Partners%20HealthCare%29/nirmal%20lab/softwares/gatorpy/docs/Tutorials/notebooks/ApplyModel.ipynb#X10sZmlsZQ%3D%3D?line=8'>9</a>\u001b[0m                  modelColumnName\u001b[39m=\u001b[39;49m\u001b[39m'\u001b[39;49m\u001b[39mgatormodel\u001b[39;49m\u001b[39m'\u001b[39;49m, \n\u001b[1;32m     <a href='vscode-notebook-cell:/Users/aj/Dropbox%20%28Partners%20HealthCare%29/nirmal%20lab/softwares/gatorpy/docs/Tutorials/notebooks/ApplyModel.ipynb#X10sZmlsZQ%3D%3D?line=9'>10</a>\u001b[0m                  GPU\u001b[39m=\u001b[39;49m\u001b[39m-\u001b[39;49m\u001b[39m1\u001b[39;49m)\n",
      "\u001b[0;31mTypeError\u001b[0m: gatorPredict() got an unexpected keyword argument 'outputDir'"
     ]
    }
   ],
   "source": [
    "outputDir = cwd\n",
    "\n",
    "ga.gatorPredict( imagePath=imagePath,\n",
    "                 gatorModelPath=gatorModelPath,\n",
    "                 outputDir=outputDir, \n",
    "                 markerChannelMapPath=markerChannelMapPath, \n",
    "                 markerColumnName='marker', \n",
    "                 channelColumnName='channel', \n",
    "                 modelColumnName='gatormodel', \n",
    "                 GPU=-1)"
   ]
  },
  {
   "cell_type": "markdown",
   "metadata": {},
   "source": [
    "**Same function if the user wants to run it via Command Line Interface**\n",
    "```\n",
    "python gatorPredict.py --imagePath /Users/aj/Desktop/gatorExampleData/image/exampleImage.tif --gatorModelPath /Users/aj/Desktop/gatorExampleData/GATOR/gatorModel/ --outputDir /Users/aj/Desktop/gatorExampleData --markerChannelMapPath /Users/aj/Desktop/gatorExampleData/markers.csv\n",
    "```"
   ]
  },
  {
   "cell_type": "markdown",
   "metadata": {},
   "source": [
    "## Step-2: Calculate the gatorScore (Single-cell Level)"
   ]
  },
  {
   "attachments": {},
   "cell_type": "markdown",
   "metadata": {},
   "source": [
    "After calculating pixel-level probability scores, the next step is to aggregate them to the single-cell level. This can be done by computing the mean or median probability scores using pre-computed segmentation masks. The marker names, if available, should already be included in the probabilityMask image. If the marker names are lost due to file manipulation, the user can provide them through the markerNames parameter."
   ]
  },
  {
   "cell_type": "code",
   "execution_count": 7,
   "metadata": {},
   "outputs": [
    {
     "name": "stdout",
     "output_type": "stream",
     "text": [
      "Quantifying the probability masks\n"
     ]
    }
   ],
   "source": [
    "ga.generateGatorScore(probabilityMaskPath=probabilityMaskPath,\n",
    "                      segmentationMaskPath=segmentationPath,\n",
    "                      feature='median',\n",
    "                      outputDir=cwd)"
   ]
  },
  {
   "cell_type": "markdown",
   "metadata": {},
   "source": [
    "**Same function if the user wants to run it via Command Line Interface**\n",
    "```\n",
    "python generateDLScore.py --probabilityMaskPath /Users/aj/Desktop/gatorExampleData/dlPredict/exampleProbabiltyMap.ome.tif --segmentationMask /Users/aj/Desktop/gatorExampleData/segmentation/exampleSegmentationMask.tif --markerNames ECAD CD45 CD4 CD3D CD8A CD45R Ki67 --outputDir /Users/aj/Desktop/gatorExampleData/"
   ]
  },
  {
   "cell_type": "markdown",
   "metadata": {},
   "source": [
    "#### If you head over to `GATOR/DLScore/`, you will find the `.csv` file with the DLScores for every cell."
   ]
  },
  {
   "cell_type": "code",
   "execution_count": 5,
   "metadata": {},
   "outputs": [],
   "source": [
    "# this tutorial ends here. Move to the Apply Model Tutorial"
   ]
  }
 ],
 "metadata": {
  "kernelspec": {
   "display_name": "gator",
   "language": "python",
   "name": "python3"
  },
  "language_info": {
   "codemirror_mode": {
    "name": "ipython",
    "version": 3
   },
   "file_extension": ".py",
   "mimetype": "text/x-python",
   "name": "python",
   "nbconvert_exporter": "python",
   "pygments_lexer": "ipython3",
   "version": "3.9.12"
  },
  "vscode": {
   "interpreter": {
    "hash": "b155a34da96f173027cc83af6ba86a1d662c2b9e09ee27c56baf0fff8044d14a"
   }
  }
 },
 "nbformat": 4,
 "nbformat_minor": 2
}
