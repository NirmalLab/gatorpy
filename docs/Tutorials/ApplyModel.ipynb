{
 "cells": [
  {
   "attachments": {},
   "cell_type": "markdown",
   "metadata": {},
   "source": [
    "## 🐊 GATOR \n",
    "Applying the generated DL model and extracting the DLScores with Gator"
   ]
  },
  {
   "cell_type": "code",
   "execution_count": 1,
   "metadata": {},
   "outputs": [],
   "source": [
    "# import packages\n",
    "import gator as ga\n",
    "import os"
   ]
  },
  {
   "attachments": {},
   "cell_type": "markdown",
   "metadata": {},
   "source": [
    "### We need `three` input for this module to run\n",
    "- The generated Model\n",
    "- Raw Image\n",
    "- markers.csv file that maps the marker names and the gatorModel."
   ]
  },
  {
   "cell_type": "code",
   "execution_count": 2,
   "metadata": {},
   "outputs": [],
   "source": [
    "# set the working directory & set paths to the example data\n",
    "cwd = '/Users/aj/Desktop/gatorExampleData'\n",
    "# Apply the DL models\n",
    "imagePath = cwd + '/image/exampleImage.tif'\n",
    "markerChannelMapPath = cwd + '/markers.csv'\n",
    "# Generate DL Scores\n",
    "probabilityMaskPath = cwd + '/GATOR/dlPredict/exampleProbabiltyMap.ome.tif'\n",
    "segmentationPath = cwd + '/segmentation/exampleSegmentationMask.tif'"
   ]
  },
  {
   "attachments": {},
   "cell_type": "markdown",
   "metadata": {},
   "source": [
    "## Step-1: Apply the generated Models on the Image of interest (Pixel Level)"
   ]
  },
  {
   "attachments": {},
   "cell_type": "markdown",
   "metadata": {},
   "source": [
    "## Step-2: Calculate the DLScore (Single-cell Level)"
   ]
  },
  {
   "attachments": {},
   "cell_type": "markdown",
   "metadata": {},
   "source": [
    "### After calculating pixel-level probability scores, the next step is to aggregate them to the single-cell level. This can be done by computing the mean or median probability scores using pre-computed segmentation masks. The marker names, if available, should already be included in the probabilityMask image. If the marker names are lost due to file manipulation, the user can provide them through the markerNames parameter."
   ]
  },
  {
   "cell_type": "code",
   "execution_count": 3,
   "metadata": {},
   "outputs": [
    {
     "name": "stdout",
     "output_type": "stream",
     "text": [
      "Quantifying the probability masks\n"
     ]
    }
   ],
   "source": [
    "ga.generateDLScore  (probabilityMaskPath=probabilityMaskPath,\n",
    "                     segmentationMask=segmentationPath,\n",
    "                     feature='median',\n",
    "                     markerNames=['ECAD', 'CD45', 'CD4', 'CD3D', 'CD8A', 'CD45R', 'Ki67'],\n",
    "                     outputDir=cwd)"
   ]
  },
  {
   "attachments": {},
   "cell_type": "markdown",
   "metadata": {},
   "source": [
    "**Same function if the user wants to run it via Command Line Interface**\n",
    "```\n",
    "python generateDLScore.py --probabilityMaskPath /Users/aj/Desktop/gatorExampleData/dlPredict/exampleProbabiltyMap.ome.tif --segmentationMask /Users/aj/Desktop/gatorExampleData/segmentation/exampleSegmentationMask.tif --markerNames ECAD CD45 CD4 CD3D CD8A CD45R Ki67 --outputDir /Users/aj/Desktop/gatorExampleData/"
   ]
  },
  {
   "attachments": {},
   "cell_type": "markdown",
   "metadata": {},
   "source": [
    "#### If you head over to `GATOR/DLScore/`, you will find the `.csv` file with the DLScores for every cell."
   ]
  },
  {
   "cell_type": "markdown",
   "metadata": {},
   "source": []
  }
 ],
 "metadata": {
  "kernelspec": {
   "display_name": "Python 3",
   "language": "python",
   "name": "python3"
  },
  "language_info": {
   "codemirror_mode": {
    "name": "ipython",
    "version": 3
   },
   "file_extension": ".py",
   "mimetype": "text/x-python",
   "name": "python",
   "nbconvert_exporter": "python",
   "pygments_lexer": "ipython3",
   "version": "3.9.13 (tags/v3.9.13:6de2ca5, May 17 2022, 16:36:42) [MSC v.1929 64 bit (AMD64)]"
  },
  "orig_nbformat": 4,
  "vscode": {
   "interpreter": {
    "hash": "4d975fac4fcc437c670ab44b5da89fd54fa784afb4bff9f75c9477844a77bbbe"
   }
  }
 },
 "nbformat": 4,
 "nbformat_minor": 2
}
