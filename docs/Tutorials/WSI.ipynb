{
 "cells": [
  {
   "cell_type": "code",
   "execution_count": 1,
   "metadata": {},
   "outputs": [],
   "source": [
    "# import packages\n",
    "import gator as ga\n",
    "import os\n",
    "import time"
   ]
  },
  {
   "cell_type": "code",
   "execution_count": 1,
   "metadata": {},
   "outputs": [
    {
     "ename": "SyntaxError",
     "evalue": "EOL while scanning string literal (3423929700.py, line 2)",
     "output_type": "error",
     "traceback": [
      "\u001b[1;36m  Input \u001b[1;32mIn [1]\u001b[1;36m\u001b[0m\n\u001b[1;33m    cwd = r\"\\\\files.med.harvard.edu\\HITS\\lsp-analysis\\gator\\SARDANATest\\WSI\\\"\u001b[0m\n\u001b[1;37m                                                                             ^\u001b[0m\n\u001b[1;31mSyntaxError\u001b[0m\u001b[1;31m:\u001b[0m EOL while scanning string literal\n"
     ]
    }
   ],
   "source": [
    "# set the working directory & set paths to the example data\n",
    "cwd = \"//files.med.harvard.edu/HITS/lsp-analysis/gator/SARDANATest/WSI/\"\n",
    "#cwd = \"/Users/aj/Dropbox (Partners HealthCare)/Data/gator/data/Exemplar/WSI/\"\n",
    "# Apply the DL models\n",
    "imagePath = cwd + '/combinedRaw.ome.tif'\n",
    "markerChannelMapPath = cwd + '/markers.csv'\n",
    "# Generate DL Scores\n",
    "probabilityMaskPath = cwd + '/combinedOutput.ome.tif'\n",
    "segmentationPath = cwd + '/cellRingMask.tif'"
   ]
  },
  {
   "cell_type": "code",
   "execution_count": 3,
   "metadata": {},
   "outputs": [
    {
     "name": "stdout",
     "output_type": "stream",
     "text": [
      "Quantifying the probability masks\n"
     ]
    }
   ],
   "source": [
    "ga.generateDLScore  (probabilityMaskPath=probabilityMaskPath,\n",
    "                     segmentationMask=segmentationPath,\n",
    "                     feature='median',\n",
    "                     markerNames=['KI67', 'CD4', 'CD8A', 'ECAD'],\n",
    "                     outputDir=cwd)"
   ]
  },
  {
   "cell_type": "code",
   "execution_count": 4,
   "metadata": {},
   "outputs": [],
   "source": [
    "# Module specific paths\n",
    "spatialTablePath = cwd + '/cropped-097.csv'\n",
    "DLScorePath = cwd + '/GATOR/DLScore/combinedOutput.ome.csv'"
   ]
  },
  {
   "cell_type": "code",
   "execution_count": 5,
   "metadata": {},
   "outputs": [
    {
     "name": "stdout",
     "output_type": "stream",
     "text": [
      "Loading cropped-097.csv\n"
     ]
    }
   ],
   "source": [
    "# please note that there are a number of defaults in the below function that assumes certain structure within the spatialTable.\n",
    "# Please confirm it is similar with user data or modifiy the parameters accordingly\n",
    "# check out the documentation for further details\n",
    "adata = ga.gatorObject (spatialTablePath=spatialTablePath,\n",
    "                        DLScorePath=DLScorePath,\n",
    "                        CellId='CellID',\n",
    "                        uniqueCellId=True,\n",
    "                        split='X_centroid',\n",
    "                        removeDNA=True,\n",
    "                        remove_string_from_name=None,\n",
    "                        log=True,\n",
    "                        dropMarkers=None,\n",
    "                        outputDir=cwd)"
   ]
  },
  {
   "cell_type": "code",
   "execution_count": 3,
   "metadata": {},
   "outputs": [],
   "source": [
    "gatorObject = cwd + '/GATOR/gatorObject/combinedOutput.ome.h5ad'"
   ]
  },
  {
   "cell_type": "code",
   "execution_count": 4,
   "metadata": {},
   "outputs": [],
   "source": [
    "adata = ga.gator ( gatorObject=gatorObject,\n",
    "                    DLScore='DLScore',\n",
    "                    minAbundance=0.002,\n",
    "                    percentiles=[1, 20, 80, 99],\n",
    "                    dropMarkers = None,\n",
    "                    RobustScale=False,\n",
    "                    log=True,\n",
    "                    stringentThreshold=True,\n",
    "                    x_coordinate='X_centroid',\n",
    "                    y_coordinate='Y_centroid',\n",
    "                    imageid='imageid',\n",
    "                    random_state=0,\n",
    "                    rescaleMethod='sigmoid',\n",
    "                    label='gatorOutput',\n",
    "                    silent=True,\n",
    "                    outputDir=cwd)"
   ]
  },
  {
   "cell_type": "code",
   "execution_count": 8,
   "metadata": {},
   "outputs": [
    {
     "name": "stdout",
     "output_type": "stream",
     "text": [
      "/Users/aj/Dropbox (Partners HealthCare)/Data/gator/data/Exemplar/WSI/1000_cells.h5ad\n",
      "/Users/aj/Dropbox (Partners HealthCare)/Data/gator/data/Exemplar/WSI/10000_cells.h5ad\n",
      "/Users/aj/Dropbox (Partners HealthCare)/Data/gator/data/Exemplar/WSI/40000_cells.h5ad\n",
      "/Users/aj/Dropbox (Partners HealthCare)/Data/gator/data/Exemplar/WSI/80000_cells.h5ad\n",
      "/Users/aj/Dropbox (Partners HealthCare)/Data/gator/data/Exemplar/WSI/1000000_cells.h5ad\n",
      "/Users/aj/Dropbox (Partners HealthCare)/Data/gator/data/Exemplar/WSI/2000000_cells.h5ad\n"
     ]
    },
    {
     "name": "stderr",
     "output_type": "stream",
     "text": [
      "/opt/anaconda3/envs/gator/lib/python3.9/site-packages/anndata/_core/anndata.py:1828: UserWarning: Observation names are not unique. To make them unique, call `.obs_names_make_unique`.\n",
      "  utils.warn_names_duplicates(\"obs\")\n",
      "/opt/anaconda3/envs/gator/lib/python3.9/site-packages/anndata/_core/anndata.py:1828: UserWarning: Observation names are not unique. To make them unique, call `.obs_names_make_unique`.\n",
      "  utils.warn_names_duplicates(\"obs\")\n"
     ]
    },
    {
     "name": "stdout",
     "output_type": "stream",
     "text": [
      "/Users/aj/Dropbox (Partners HealthCare)/Data/gator/data/Exemplar/WSI/3000000_cells.h5ad\n"
     ]
    },
    {
     "name": "stderr",
     "output_type": "stream",
     "text": [
      "/opt/anaconda3/envs/gator/lib/python3.9/site-packages/anndata/_core/anndata.py:1828: UserWarning: Observation names are not unique. To make them unique, call `.obs_names_make_unique`.\n",
      "  utils.warn_names_duplicates(\"obs\")\n",
      "/opt/anaconda3/envs/gator/lib/python3.9/site-packages/anndata/_core/anndata.py:1828: UserWarning: Observation names are not unique. To make them unique, call `.obs_names_make_unique`.\n",
      "  utils.warn_names_duplicates(\"obs\")\n"
     ]
    },
    {
     "ename": "OSError",
     "evalue": "[Errno 28] Can't write data (file write failed: time = Wed Feb  1 16:28:55 2023\n, filename = '/Users/aj/Dropbox (Partners HealthCare)/Data/gator/data/Exemplar/WSI/GATOR/gatorOutput/3000000_cells.h5ad', file descriptor = 74, errno = 28, error message = 'No space left on device', buf = 0x7fd890869000, total write size = 96000000, bytes this sub-write = 96000000, bytes actually written = 18446744073709551615, offset = 0)\n\nAbove error raised while writing key 'X' of <class 'h5py._hl.group.Group'> to /",
     "output_type": "error",
     "traceback": [
      "\u001b[0;31m---------------------------------------------------------------------------\u001b[0m",
      "\u001b[0;31mOSError\u001b[0m                                   Traceback (most recent call last)",
      "File \u001b[0;32m/opt/anaconda3/envs/gator/lib/python3.9/site-packages/anndata/_io/utils.py:214\u001b[0m, in \u001b[0;36mreport_write_key_on_error.<locals>.func_wrapper\u001b[0;34m(elem, key, val, *args, **kwargs)\u001b[0m\n\u001b[1;32m    213\u001b[0m \u001b[39mtry\u001b[39;00m:\n\u001b[0;32m--> 214\u001b[0m     \u001b[39mreturn\u001b[39;00m func(elem, key, val, \u001b[39m*\u001b[39;49margs, \u001b[39m*\u001b[39;49m\u001b[39m*\u001b[39;49mkwargs)\n\u001b[1;32m    215\u001b[0m \u001b[39mexcept\u001b[39;00m \u001b[39mException\u001b[39;00m \u001b[39mas\u001b[39;00m e:\n",
      "File \u001b[0;32m/opt/anaconda3/envs/gator/lib/python3.9/site-packages/anndata/_io/specs/registry.py:175\u001b[0m, in \u001b[0;36mwrite_elem\u001b[0;34m(f, k, elem, modifiers, *args, **kwargs)\u001b[0m\n\u001b[1;32m    174\u001b[0m \u001b[39melse\u001b[39;00m:\n\u001b[0;32m--> 175\u001b[0m     _REGISTRY\u001b[39m.\u001b[39;49mget_writer(dest_type, t, modifiers)(f, k, elem, \u001b[39m*\u001b[39;49margs, \u001b[39m*\u001b[39;49m\u001b[39m*\u001b[39;49mkwargs)\n",
      "File \u001b[0;32m/opt/anaconda3/envs/gator/lib/python3.9/site-packages/anndata/_io/specs/registry.py:24\u001b[0m, in \u001b[0;36mwrite_spec.<locals>.decorator.<locals>.wrapper\u001b[0;34m(g, k, *args, **kwargs)\u001b[0m\n\u001b[1;32m     22\u001b[0m \u001b[39m@wraps\u001b[39m(func)\n\u001b[1;32m     23\u001b[0m \u001b[39mdef\u001b[39;00m \u001b[39mwrapper\u001b[39m(g, k, \u001b[39m*\u001b[39margs, \u001b[39m*\u001b[39m\u001b[39m*\u001b[39mkwargs):\n\u001b[0;32m---> 24\u001b[0m     result \u001b[39m=\u001b[39m func(g, k, \u001b[39m*\u001b[39;49margs, \u001b[39m*\u001b[39;49m\u001b[39m*\u001b[39;49mkwargs)\n\u001b[1;32m     25\u001b[0m     g[k]\u001b[39m.\u001b[39mattrs\u001b[39m.\u001b[39msetdefault(\u001b[39m\"\u001b[39m\u001b[39mencoding-type\u001b[39m\u001b[39m\"\u001b[39m, spec\u001b[39m.\u001b[39mencoding_type)\n",
      "File \u001b[0;32m/opt/anaconda3/envs/gator/lib/python3.9/site-packages/anndata/_io/specs/methods.py:307\u001b[0m, in \u001b[0;36mwrite_basic\u001b[0;34m(f, k, elem, dataset_kwargs)\u001b[0m\n\u001b[1;32m    306\u001b[0m \u001b[39m\u001b[39m\u001b[39m\"\"\"Write methods which underlying library handles nativley.\"\"\"\u001b[39;00m\n\u001b[0;32m--> 307\u001b[0m f\u001b[39m.\u001b[39;49mcreate_dataset(k, data\u001b[39m=\u001b[39;49melem, \u001b[39m*\u001b[39;49m\u001b[39m*\u001b[39;49mdataset_kwargs)\n",
      "File \u001b[0;32m/opt/anaconda3/envs/gator/lib/python3.9/site-packages/h5py/_hl/group.py:183\u001b[0m, in \u001b[0;36mGroup.create_dataset\u001b[0;34m(self, name, shape, dtype, data, **kwds)\u001b[0m\n\u001b[1;32m    181\u001b[0m         group \u001b[39m=\u001b[39m \u001b[39mself\u001b[39m\u001b[39m.\u001b[39mrequire_group(parent_path)\n\u001b[0;32m--> 183\u001b[0m dsid \u001b[39m=\u001b[39m dataset\u001b[39m.\u001b[39;49mmake_new_dset(group, shape, dtype, data, name, \u001b[39m*\u001b[39;49m\u001b[39m*\u001b[39;49mkwds)\n\u001b[1;32m    184\u001b[0m dset \u001b[39m=\u001b[39m dataset\u001b[39m.\u001b[39mDataset(dsid)\n",
      "File \u001b[0;32m/opt/anaconda3/envs/gator/lib/python3.9/site-packages/h5py/_hl/dataset.py:168\u001b[0m, in \u001b[0;36mmake_new_dset\u001b[0;34m(parent, shape, dtype, data, name, chunks, compression, shuffle, fletcher32, maxshape, compression_opts, fillvalue, scaleoffset, track_times, external, track_order, dcpl, dapl, efile_prefix, virtual_prefix, allow_unknown_filter, rdcc_nslots, rdcc_nbytes, rdcc_w0)\u001b[0m\n\u001b[1;32m    167\u001b[0m \u001b[39mif\u001b[39;00m (data \u001b[39mis\u001b[39;00m \u001b[39mnot\u001b[39;00m \u001b[39mNone\u001b[39;00m) \u001b[39mand\u001b[39;00m (\u001b[39mnot\u001b[39;00m \u001b[39misinstance\u001b[39m(data, Empty)):\n\u001b[0;32m--> 168\u001b[0m     dset_id\u001b[39m.\u001b[39;49mwrite(h5s\u001b[39m.\u001b[39;49mALL, h5s\u001b[39m.\u001b[39;49mALL, data)\n\u001b[1;32m    170\u001b[0m \u001b[39mreturn\u001b[39;00m dset_id\n",
      "File \u001b[0;32mh5py/_objects.pyx:54\u001b[0m, in \u001b[0;36mh5py._objects.with_phil.wrapper\u001b[0;34m()\u001b[0m\n",
      "File \u001b[0;32mh5py/_objects.pyx:55\u001b[0m, in \u001b[0;36mh5py._objects.with_phil.wrapper\u001b[0;34m()\u001b[0m\n",
      "File \u001b[0;32mh5py/h5d.pyx:280\u001b[0m, in \u001b[0;36mh5py.h5d.DatasetID.write\u001b[0;34m()\u001b[0m\n",
      "File \u001b[0;32mh5py/_proxy.pyx:114\u001b[0m, in \u001b[0;36mh5py._proxy.dset_rw\u001b[0;34m()\u001b[0m\n",
      "\u001b[0;31mOSError\u001b[0m: [Errno 28] Can't write data (file write failed: time = Wed Feb  1 16:28:55 2023\n, filename = '/Users/aj/Dropbox (Partners HealthCare)/Data/gator/data/Exemplar/WSI/GATOR/gatorOutput/3000000_cells.h5ad', file descriptor = 74, errno = 28, error message = 'No space left on device', buf = 0x7fd890869000, total write size = 96000000, bytes this sub-write = 96000000, bytes actually written = 18446744073709551615, offset = 0)",
      "\nThe above exception was the direct cause of the following exception:\n",
      "\u001b[0;31mOSError\u001b[0m                                   Traceback (most recent call last)",
      "\u001b[1;32m/Users/aj/Dropbox (Partners HealthCare)/packages/gator/example/WSI.ipynb Cell 8\u001b[0m in \u001b[0;36m<cell line: 6>\u001b[0;34m()\u001b[0m\n\u001b[1;32m      <a href='vscode-notebook-cell:/Users/aj/Dropbox%20%28Partners%20HealthCare%29/packages/gator/example/WSI.ipynb#X11sZmlsZQ%3D%3D?line=7'>8</a>\u001b[0m \u001b[39mprint\u001b[39m(gatorObject)\n\u001b[1;32m      <a href='vscode-notebook-cell:/Users/aj/Dropbox%20%28Partners%20HealthCare%29/packages/gator/example/WSI.ipynb#X11sZmlsZQ%3D%3D?line=8'>9</a>\u001b[0m start \u001b[39m=\u001b[39m time\u001b[39m.\u001b[39mtime()\n\u001b[0;32m---> <a href='vscode-notebook-cell:/Users/aj/Dropbox%20%28Partners%20HealthCare%29/packages/gator/example/WSI.ipynb#X11sZmlsZQ%3D%3D?line=10'>11</a>\u001b[0m adata \u001b[39m=\u001b[39m ga\u001b[39m.\u001b[39;49mgator ( gatorObject\u001b[39m=\u001b[39;49mgatorObject,\n\u001b[1;32m     <a href='vscode-notebook-cell:/Users/aj/Dropbox%20%28Partners%20HealthCare%29/packages/gator/example/WSI.ipynb#X11sZmlsZQ%3D%3D?line=11'>12</a>\u001b[0m                 DLScore\u001b[39m=\u001b[39;49m\u001b[39m'\u001b[39;49m\u001b[39mDLScore\u001b[39;49m\u001b[39m'\u001b[39;49m,\n\u001b[1;32m     <a href='vscode-notebook-cell:/Users/aj/Dropbox%20%28Partners%20HealthCare%29/packages/gator/example/WSI.ipynb#X11sZmlsZQ%3D%3D?line=12'>13</a>\u001b[0m                 minAbundance\u001b[39m=\u001b[39;49m\u001b[39m0.002\u001b[39;49m,\n\u001b[1;32m     <a href='vscode-notebook-cell:/Users/aj/Dropbox%20%28Partners%20HealthCare%29/packages/gator/example/WSI.ipynb#X11sZmlsZQ%3D%3D?line=13'>14</a>\u001b[0m                 percentiles\u001b[39m=\u001b[39;49m[\u001b[39m1\u001b[39;49m, \u001b[39m20\u001b[39;49m, \u001b[39m80\u001b[39;49m, \u001b[39m99\u001b[39;49m],\n\u001b[1;32m     <a href='vscode-notebook-cell:/Users/aj/Dropbox%20%28Partners%20HealthCare%29/packages/gator/example/WSI.ipynb#X11sZmlsZQ%3D%3D?line=14'>15</a>\u001b[0m                 dropMarkers \u001b[39m=\u001b[39;49m \u001b[39mNone\u001b[39;49;00m,\n\u001b[1;32m     <a href='vscode-notebook-cell:/Users/aj/Dropbox%20%28Partners%20HealthCare%29/packages/gator/example/WSI.ipynb#X11sZmlsZQ%3D%3D?line=15'>16</a>\u001b[0m                 RobustScale\u001b[39m=\u001b[39;49m\u001b[39mFalse\u001b[39;49;00m,\n\u001b[1;32m     <a href='vscode-notebook-cell:/Users/aj/Dropbox%20%28Partners%20HealthCare%29/packages/gator/example/WSI.ipynb#X11sZmlsZQ%3D%3D?line=16'>17</a>\u001b[0m                 log\u001b[39m=\u001b[39;49m\u001b[39mTrue\u001b[39;49;00m,\n\u001b[1;32m     <a href='vscode-notebook-cell:/Users/aj/Dropbox%20%28Partners%20HealthCare%29/packages/gator/example/WSI.ipynb#X11sZmlsZQ%3D%3D?line=17'>18</a>\u001b[0m                 stringentThreshold\u001b[39m=\u001b[39;49m\u001b[39mFalse\u001b[39;49;00m,\n\u001b[1;32m     <a href='vscode-notebook-cell:/Users/aj/Dropbox%20%28Partners%20HealthCare%29/packages/gator/example/WSI.ipynb#X11sZmlsZQ%3D%3D?line=18'>19</a>\u001b[0m                 x_coordinate\u001b[39m=\u001b[39;49m\u001b[39m'\u001b[39;49m\u001b[39mX_centroid\u001b[39;49m\u001b[39m'\u001b[39;49m,\n\u001b[1;32m     <a href='vscode-notebook-cell:/Users/aj/Dropbox%20%28Partners%20HealthCare%29/packages/gator/example/WSI.ipynb#X11sZmlsZQ%3D%3D?line=19'>20</a>\u001b[0m                 y_coordinate\u001b[39m=\u001b[39;49m\u001b[39m'\u001b[39;49m\u001b[39mY_centroid\u001b[39;49m\u001b[39m'\u001b[39;49m,\n\u001b[1;32m     <a href='vscode-notebook-cell:/Users/aj/Dropbox%20%28Partners%20HealthCare%29/packages/gator/example/WSI.ipynb#X11sZmlsZQ%3D%3D?line=20'>21</a>\u001b[0m                 imageid\u001b[39m=\u001b[39;49m\u001b[39m'\u001b[39;49m\u001b[39mimageid\u001b[39;49m\u001b[39m'\u001b[39;49m,\n\u001b[1;32m     <a href='vscode-notebook-cell:/Users/aj/Dropbox%20%28Partners%20HealthCare%29/packages/gator/example/WSI.ipynb#X11sZmlsZQ%3D%3D?line=21'>22</a>\u001b[0m                 random_state\u001b[39m=\u001b[39;49m\u001b[39m0\u001b[39;49m,\n\u001b[1;32m     <a href='vscode-notebook-cell:/Users/aj/Dropbox%20%28Partners%20HealthCare%29/packages/gator/example/WSI.ipynb#X11sZmlsZQ%3D%3D?line=22'>23</a>\u001b[0m                 rescaleMethod\u001b[39m=\u001b[39;49m\u001b[39m'\u001b[39;49m\u001b[39msigmoid\u001b[39;49m\u001b[39m'\u001b[39;49m,\n\u001b[1;32m     <a href='vscode-notebook-cell:/Users/aj/Dropbox%20%28Partners%20HealthCare%29/packages/gator/example/WSI.ipynb#X11sZmlsZQ%3D%3D?line=23'>24</a>\u001b[0m                 label\u001b[39m=\u001b[39;49m\u001b[39m'\u001b[39;49m\u001b[39mgatorOutput\u001b[39;49m\u001b[39m'\u001b[39;49m,\n\u001b[1;32m     <a href='vscode-notebook-cell:/Users/aj/Dropbox%20%28Partners%20HealthCare%29/packages/gator/example/WSI.ipynb#X11sZmlsZQ%3D%3D?line=24'>25</a>\u001b[0m                 silent\u001b[39m=\u001b[39;49m\u001b[39mTrue\u001b[39;49;00m,\n\u001b[1;32m     <a href='vscode-notebook-cell:/Users/aj/Dropbox%20%28Partners%20HealthCare%29/packages/gator/example/WSI.ipynb#X11sZmlsZQ%3D%3D?line=25'>26</a>\u001b[0m                 outputDir\u001b[39m=\u001b[39;49mcwd)\n\u001b[1;32m     <a href='vscode-notebook-cell:/Users/aj/Dropbox%20%28Partners%20HealthCare%29/packages/gator/example/WSI.ipynb#X11sZmlsZQ%3D%3D?line=28'>29</a>\u001b[0m stop \u001b[39m=\u001b[39m time\u001b[39m.\u001b[39mtime()\n\u001b[1;32m     <a href='vscode-notebook-cell:/Users/aj/Dropbox%20%28Partners%20HealthCare%29/packages/gator/example/WSI.ipynb#X11sZmlsZQ%3D%3D?line=29'>30</a>\u001b[0m temp_time \u001b[39m=\u001b[39m stop\u001b[39m-\u001b[39mstart\n",
      "File \u001b[0;32m~/Dropbox (Partners HealthCare)/packages/gator/gator/gator.py:823\u001b[0m, in \u001b[0;36mgator\u001b[0;34m(gatorObject, DLScore, minAbundance, percentiles, dropMarkers, RobustScale, log, stringentThreshold, x_coordinate, y_coordinate, imageid, random_state, rescaleMethod, label, silent, outputDir, **kwargs)\u001b[0m\n\u001b[1;32m    821\u001b[0m     \u001b[39melse\u001b[39;00m:\n\u001b[1;32m    822\u001b[0m         imid \u001b[39m=\u001b[39m gatorObjectPath[\u001b[39m0\u001b[39m]\u001b[39m.\u001b[39mstem\n\u001b[0;32m--> 823\u001b[0m     bdata\u001b[39m.\u001b[39;49mwrite(finalPath \u001b[39m/\u001b[39;49m \u001b[39mf\u001b[39;49m\u001b[39m'\u001b[39;49m\u001b[39m{\u001b[39;49;00mimid\u001b[39m}\u001b[39;49;00m\u001b[39m.h5ad\u001b[39;49m\u001b[39m'\u001b[39;49m)\n\u001b[1;32m    825\u001b[0m \u001b[39mreturn\u001b[39;00m bdata\n",
      "File \u001b[0;32m/opt/anaconda3/envs/gator/lib/python3.9/site-packages/anndata/_core/anndata.py:1918\u001b[0m, in \u001b[0;36mAnnData.write_h5ad\u001b[0;34m(self, filename, compression, compression_opts, force_dense, as_dense)\u001b[0m\n\u001b[1;32m   1915\u001b[0m \u001b[39mif\u001b[39;00m filename \u001b[39mis\u001b[39;00m \u001b[39mNone\u001b[39;00m:\n\u001b[1;32m   1916\u001b[0m     filename \u001b[39m=\u001b[39m \u001b[39mself\u001b[39m\u001b[39m.\u001b[39mfilename\n\u001b[0;32m-> 1918\u001b[0m _write_h5ad(\n\u001b[1;32m   1919\u001b[0m     Path(filename),\n\u001b[1;32m   1920\u001b[0m     \u001b[39mself\u001b[39;49m,\n\u001b[1;32m   1921\u001b[0m     compression\u001b[39m=\u001b[39;49mcompression,\n\u001b[1;32m   1922\u001b[0m     compression_opts\u001b[39m=\u001b[39;49mcompression_opts,\n\u001b[1;32m   1923\u001b[0m     force_dense\u001b[39m=\u001b[39;49mforce_dense,\n\u001b[1;32m   1924\u001b[0m     as_dense\u001b[39m=\u001b[39;49mas_dense,\n\u001b[1;32m   1925\u001b[0m )\n\u001b[1;32m   1927\u001b[0m \u001b[39mif\u001b[39;00m \u001b[39mself\u001b[39m\u001b[39m.\u001b[39misbacked:\n\u001b[1;32m   1928\u001b[0m     \u001b[39mself\u001b[39m\u001b[39m.\u001b[39mfile\u001b[39m.\u001b[39mfilename \u001b[39m=\u001b[39m filename\n",
      "File \u001b[0;32m/opt/anaconda3/envs/gator/lib/python3.9/site-packages/anndata/_io/h5ad.py:97\u001b[0m, in \u001b[0;36mwrite_h5ad\u001b[0;34m(filepath, adata, force_dense, as_dense, dataset_kwargs, **kwargs)\u001b[0m\n\u001b[1;32m     93\u001b[0m     write_elem(\n\u001b[1;32m     94\u001b[0m         f, \u001b[39m\"\u001b[39m\u001b[39mraw/varm\u001b[39m\u001b[39m\"\u001b[39m, \u001b[39mdict\u001b[39m(adata\u001b[39m.\u001b[39mraw\u001b[39m.\u001b[39mvarm), dataset_kwargs\u001b[39m=\u001b[39mdataset_kwargs\n\u001b[1;32m     95\u001b[0m     )\n\u001b[1;32m     96\u001b[0m \u001b[39melif\u001b[39;00m adata\u001b[39m.\u001b[39mraw \u001b[39mis\u001b[39;00m \u001b[39mnot\u001b[39;00m \u001b[39mNone\u001b[39;00m:\n\u001b[0;32m---> 97\u001b[0m     write_elem(f, \u001b[39m\"\u001b[39;49m\u001b[39mraw\u001b[39;49m\u001b[39m\"\u001b[39;49m, adata\u001b[39m.\u001b[39;49mraw, dataset_kwargs\u001b[39m=\u001b[39;49mdataset_kwargs)\n\u001b[1;32m     98\u001b[0m write_elem(f, \u001b[39m\"\u001b[39m\u001b[39mobs\u001b[39m\u001b[39m\"\u001b[39m, adata\u001b[39m.\u001b[39mobs, dataset_kwargs\u001b[39m=\u001b[39mdataset_kwargs)\n\u001b[1;32m     99\u001b[0m write_elem(f, \u001b[39m\"\u001b[39m\u001b[39mvar\u001b[39m\u001b[39m\"\u001b[39m, adata\u001b[39m.\u001b[39mvar, dataset_kwargs\u001b[39m=\u001b[39mdataset_kwargs)\n",
      "File \u001b[0;32m/opt/anaconda3/envs/gator/lib/python3.9/site-packages/anndata/_io/utils.py:214\u001b[0m, in \u001b[0;36mreport_write_key_on_error.<locals>.func_wrapper\u001b[0;34m(elem, key, val, *args, **kwargs)\u001b[0m\n\u001b[1;32m    211\u001b[0m \u001b[39m@wraps\u001b[39m(func)\n\u001b[1;32m    212\u001b[0m \u001b[39mdef\u001b[39;00m \u001b[39mfunc_wrapper\u001b[39m(elem, key, val, \u001b[39m*\u001b[39margs, \u001b[39m*\u001b[39m\u001b[39m*\u001b[39mkwargs):\n\u001b[1;32m    213\u001b[0m     \u001b[39mtry\u001b[39;00m:\n\u001b[0;32m--> 214\u001b[0m         \u001b[39mreturn\u001b[39;00m func(elem, key, val, \u001b[39m*\u001b[39;49margs, \u001b[39m*\u001b[39;49m\u001b[39m*\u001b[39;49mkwargs)\n\u001b[1;32m    215\u001b[0m     \u001b[39mexcept\u001b[39;00m \u001b[39mException\u001b[39;00m \u001b[39mas\u001b[39;00m e:\n\u001b[1;32m    216\u001b[0m         \u001b[39mif\u001b[39;00m \u001b[39m\"\u001b[39m\u001b[39mAbove error raised while writing key\u001b[39m\u001b[39m\"\u001b[39m \u001b[39min\u001b[39;00m \u001b[39mformat\u001b[39m(e):\n",
      "File \u001b[0;32m/opt/anaconda3/envs/gator/lib/python3.9/site-packages/anndata/_io/specs/registry.py:175\u001b[0m, in \u001b[0;36mwrite_elem\u001b[0;34m(f, k, elem, modifiers, *args, **kwargs)\u001b[0m\n\u001b[1;32m    171\u001b[0m     _REGISTRY\u001b[39m.\u001b[39mget_writer(dest_type, (t, elem\u001b[39m.\u001b[39mdtype\u001b[39m.\u001b[39mkind), modifiers)(\n\u001b[1;32m    172\u001b[0m         f, k, elem, \u001b[39m*\u001b[39margs, \u001b[39m*\u001b[39m\u001b[39m*\u001b[39mkwargs\n\u001b[1;32m    173\u001b[0m     )\n\u001b[1;32m    174\u001b[0m \u001b[39melse\u001b[39;00m:\n\u001b[0;32m--> 175\u001b[0m     _REGISTRY\u001b[39m.\u001b[39;49mget_writer(dest_type, t, modifiers)(f, k, elem, \u001b[39m*\u001b[39;49margs, \u001b[39m*\u001b[39;49m\u001b[39m*\u001b[39;49mkwargs)\n",
      "File \u001b[0;32m/opt/anaconda3/envs/gator/lib/python3.9/site-packages/anndata/_io/specs/registry.py:24\u001b[0m, in \u001b[0;36mwrite_spec.<locals>.decorator.<locals>.wrapper\u001b[0;34m(g, k, *args, **kwargs)\u001b[0m\n\u001b[1;32m     22\u001b[0m \u001b[39m@wraps\u001b[39m(func)\n\u001b[1;32m     23\u001b[0m \u001b[39mdef\u001b[39;00m \u001b[39mwrapper\u001b[39m(g, k, \u001b[39m*\u001b[39margs, \u001b[39m*\u001b[39m\u001b[39m*\u001b[39mkwargs):\n\u001b[0;32m---> 24\u001b[0m     result \u001b[39m=\u001b[39m func(g, k, \u001b[39m*\u001b[39;49margs, \u001b[39m*\u001b[39;49m\u001b[39m*\u001b[39;49mkwargs)\n\u001b[1;32m     25\u001b[0m     g[k]\u001b[39m.\u001b[39mattrs\u001b[39m.\u001b[39msetdefault(\u001b[39m\"\u001b[39m\u001b[39mencoding-type\u001b[39m\u001b[39m\"\u001b[39m, spec\u001b[39m.\u001b[39mencoding_type)\n\u001b[1;32m     26\u001b[0m     g[k]\u001b[39m.\u001b[39mattrs\u001b[39m.\u001b[39msetdefault(\u001b[39m\"\u001b[39m\u001b[39mencoding-version\u001b[39m\u001b[39m\"\u001b[39m, spec\u001b[39m.\u001b[39mencoding_version)\n",
      "File \u001b[0;32m/opt/anaconda3/envs/gator/lib/python3.9/site-packages/anndata/_io/specs/methods.py:258\u001b[0m, in \u001b[0;36mwrite_raw\u001b[0;34m(f, k, raw, dataset_kwargs)\u001b[0m\n\u001b[1;32m    254\u001b[0m \u001b[39m@_REGISTRY\u001b[39m\u001b[39m.\u001b[39mregister_write(H5Group, Raw, IOSpec(\u001b[39m\"\u001b[39m\u001b[39mraw\u001b[39m\u001b[39m\"\u001b[39m, \u001b[39m\"\u001b[39m\u001b[39m0.1.0\u001b[39m\u001b[39m\"\u001b[39m))\n\u001b[1;32m    255\u001b[0m \u001b[39m@_REGISTRY\u001b[39m\u001b[39m.\u001b[39mregister_write(ZarrGroup, Raw, IOSpec(\u001b[39m\"\u001b[39m\u001b[39mraw\u001b[39m\u001b[39m\"\u001b[39m, \u001b[39m\"\u001b[39m\u001b[39m0.1.0\u001b[39m\u001b[39m\"\u001b[39m))\n\u001b[1;32m    256\u001b[0m \u001b[39mdef\u001b[39;00m \u001b[39mwrite_raw\u001b[39m(f, k, raw, dataset_kwargs\u001b[39m=\u001b[39mMappingProxyType({})):\n\u001b[1;32m    257\u001b[0m     g \u001b[39m=\u001b[39m f\u001b[39m.\u001b[39mcreate_group(k)\n\u001b[0;32m--> 258\u001b[0m     write_elem(g, \u001b[39m\"\u001b[39;49m\u001b[39mX\u001b[39;49m\u001b[39m\"\u001b[39;49m, raw\u001b[39m.\u001b[39;49mX, dataset_kwargs\u001b[39m=\u001b[39;49mdataset_kwargs)\n\u001b[1;32m    259\u001b[0m     write_elem(g, \u001b[39m\"\u001b[39m\u001b[39mvar\u001b[39m\u001b[39m\"\u001b[39m, raw\u001b[39m.\u001b[39mvar, dataset_kwargs\u001b[39m=\u001b[39mdataset_kwargs)\n\u001b[1;32m    260\u001b[0m     write_elem(g, \u001b[39m\"\u001b[39m\u001b[39mvarm\u001b[39m\u001b[39m\"\u001b[39m, \u001b[39mdict\u001b[39m(raw\u001b[39m.\u001b[39mvarm), dataset_kwargs\u001b[39m=\u001b[39mdataset_kwargs)\n",
      "File \u001b[0;32m/opt/anaconda3/envs/gator/lib/python3.9/site-packages/anndata/_io/utils.py:220\u001b[0m, in \u001b[0;36mreport_write_key_on_error.<locals>.func_wrapper\u001b[0;34m(elem, key, val, *args, **kwargs)\u001b[0m\n\u001b[1;32m    218\u001b[0m \u001b[39melse\u001b[39;00m:\n\u001b[1;32m    219\u001b[0m     parent \u001b[39m=\u001b[39m _get_parent(elem)\n\u001b[0;32m--> 220\u001b[0m     \u001b[39mraise\u001b[39;00m \u001b[39mtype\u001b[39m(e)(\n\u001b[1;32m    221\u001b[0m         \u001b[39mf\u001b[39m\u001b[39m\"\u001b[39m\u001b[39m{\u001b[39;00me\u001b[39m}\u001b[39;00m\u001b[39m\\n\u001b[39;00m\u001b[39m\\n\u001b[39;00m\u001b[39m\"\u001b[39m\n\u001b[1;32m    222\u001b[0m         \u001b[39mf\u001b[39m\u001b[39m\"\u001b[39m\u001b[39mAbove error raised while writing key \u001b[39m\u001b[39m{\u001b[39;00mkey\u001b[39m!r}\u001b[39;00m\u001b[39m of \u001b[39m\u001b[39m{\u001b[39;00m\u001b[39mtype\u001b[39m(elem)\u001b[39m}\u001b[39;00m\u001b[39m \u001b[39m\u001b[39m\"\u001b[39m\n\u001b[1;32m    223\u001b[0m         \u001b[39mf\u001b[39m\u001b[39m\"\u001b[39m\u001b[39mto \u001b[39m\u001b[39m{\u001b[39;00mparent\u001b[39m}\u001b[39;00m\u001b[39m\"\u001b[39m\n\u001b[1;32m    224\u001b[0m     ) \u001b[39mfrom\u001b[39;00m \u001b[39me\u001b[39;00m\n",
      "\u001b[0;31mOSError\u001b[0m: [Errno 28] Can't write data (file write failed: time = Wed Feb  1 16:28:55 2023\n, filename = '/Users/aj/Dropbox (Partners HealthCare)/Data/gator/data/Exemplar/WSI/GATOR/gatorOutput/3000000_cells.h5ad', file descriptor = 74, errno = 28, error message = 'No space left on device', buf = 0x7fd890869000, total write size = 96000000, bytes this sub-write = 96000000, bytes actually written = 18446744073709551615, offset = 0)\n\nAbove error raised while writing key 'X' of <class 'h5py._hl.group.Group'> to /"
     ]
    }
   ],
   "source": [
    "size_list = ['1000_cells.h5ad', '10000_cells.h5ad','40000_cells.h5ad',\n",
    "             '80000_cells.h5ad', '1000000_cells.h5ad', '2000000_cells.h5ad',\n",
    "             '3000000_cells.h5ad', '4000000_cells.h5ad', '5000000_cells.h5ad']\n",
    "\n",
    "time_acc = []\n",
    "for i in size_list:\n",
    "    gatorObject = cwd + i\n",
    "    print(gatorObject)\n",
    "    start = time.time()\n",
    "\n",
    "    adata = ga.gator ( gatorObject=gatorObject,\n",
    "                    DLScore='DLScore',\n",
    "                    minAbundance=0.002,\n",
    "                    percentiles=[1, 20, 80, 99],\n",
    "                    dropMarkers = None,\n",
    "                    RobustScale=False,\n",
    "                    log=True,\n",
    "                    stringentThreshold=False,\n",
    "                    x_coordinate='X_centroid',\n",
    "                    y_coordinate='Y_centroid',\n",
    "                    imageid='imageid',\n",
    "                    random_state=0,\n",
    "                    rescaleMethod='sigmoid',\n",
    "                    label='gatorOutput',\n",
    "                    silent=True,\n",
    "                    outputDir=cwd)\n",
    "\n",
    "\n",
    "    stop = time.time()\n",
    "    temp_time = stop-start\n",
    "    time_acc.append(temp_time)\n",
    "\n",
    "print(time_acc)"
   ]
  }
 ],
 "metadata": {
  "kernelspec": {
   "display_name": "gator",
   "language": "python",
   "name": "python3"
  },
  "language_info": {
   "codemirror_mode": {
    "name": "ipython",
    "version": 3
   },
   "file_extension": ".py",
   "mimetype": "text/x-python",
   "name": "python",
   "nbconvert_exporter": "python",
   "pygments_lexer": "ipython3",
   "version": "3.9.13"
  },
  "orig_nbformat": 4,
  "vscode": {
   "interpreter": {
    "hash": "4cc739ea36c1451ee1df8d34d2d86be9a1593f78eca72e1b9831247d8334d669"
   }
  }
 },
 "nbformat": 4,
 "nbformat_minor": 2
}
