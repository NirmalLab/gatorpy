{
 "cells": [
  {
   "attachments": {},
   "cell_type": "markdown",
   "metadata": {},
   "source": [
    "## 🐊 GATOR \n",
    "Using the generated DLScore and precomputed single-cell spatial Table, run the Gator algorithm"
   ]
  },
  {
   "cell_type": "code",
   "execution_count": 1,
   "metadata": {},
   "outputs": [],
   "source": [
    "# import packages\n",
    "import gator as ga\n",
    "import os"
   ]
  },
  {
   "attachments": {},
   "cell_type": "markdown",
   "metadata": {},
   "source": [
    "### We need `two` basic input to run the third module of the gator algorithm\n",
    "- Pre-computed quantification table (spatial feature table)\n",
    "- DL Scores"
   ]
  },
  {
   "cell_type": "code",
   "execution_count": 2,
   "metadata": {},
   "outputs": [],
   "source": [
    "# set the working directory & set paths to the example data\n",
    "cwd = '/Users/aj/Desktop/gatorExampleData'\n",
    "# Module specific paths\n",
    "spatialTablePath = cwd + '/quantification/exampleSpatialTable.csv'\n",
    "DLScorePath = cwd + '/GATOR/DLScore/exampleProbabiltyMap.ome.csv'"
   ]
  },
  {
   "attachments": {},
   "cell_type": "markdown",
   "metadata": {},
   "source": [
    "## Step-1: Create a Gator object"
   ]
  },
  {
   "attachments": {},
   "cell_type": "markdown",
   "metadata": {},
   "source": [
    "### We'll use the anndata framework to create a gator object to store all information in one file, making it easier to keep track of intermediate files generated in subsequent steps.  This helps streamline the data analysis process and reduces the risk of losing or misplacing information."
   ]
  },
  {
   "cell_type": "code",
   "execution_count": 3,
   "metadata": {},
   "outputs": [
    {
     "name": "stdout",
     "output_type": "stream",
     "text": [
      "Loading exampleSpatialTable.csv\n"
     ]
    }
   ],
   "source": [
    "# please note that there are a number of defaults in the below function that assumes certain structure within the spatialTable.\n",
    "# Please confirm it is similar with user data or modifiy the parameters accordingly\n",
    "# check out the documentation for further details\n",
    "adata = ga.gatorObject (spatialTablePath=spatialTablePath,\n",
    "                        DLScorePath=DLScorePath,\n",
    "                        CellId='CellID',\n",
    "                        uniqueCellId=True,\n",
    "                        split='X_centroid',\n",
    "                        removeDNA=True,\n",
    "                        remove_string_from_name=None,\n",
    "                        log=True,\n",
    "                        dropMarkers=None,\n",
    "                        outputDir=cwd)"
   ]
  },
  {
   "attachments": {},
   "cell_type": "markdown",
   "metadata": {},
   "source": [
    "**Same function if the user wants to run it via Command Line Interface**\n",
    "```\n",
    "python gatorObject.py --spatialTablePath /Users/aj/Desktop/gatorExampleData/quantification/exampleSpatialTable.csv --DLScorePath /Users/aj/Desktop/gatorExampleData/GATOR/DLScore/exampleProbabiltyMap.ome.csv --outputDir /Users/aj/Desktop/gatorExampleData"
   ]
  },
  {
   "attachments": {},
   "cell_type": "markdown",
   "metadata": {},
   "source": [
    "#### If you had provided `outputDir` the object would be stored in `GATOR/gatorObject/`, else, the object will be returned to memory"
   ]
  },
  {
   "attachments": {},
   "cell_type": "markdown",
   "metadata": {},
   "source": [
    "## Step-2: Run the Gator Algorithm"
   ]
  },
  {
   "attachments": {},
   "cell_type": "markdown",
   "metadata": {},
   "source": [
    "### The `gator` algorithm is ready to run after pre-processing. To get optimal results, consider adjusting the following parameters:\n",
    "\n",
    "1. The `gatorObject` parameter can accept either the loaded gatorObject or a path to the .h5ad file.\n",
    "2. The `minAbundance` parameter determines the minimum percentage of a marker's abundance to consider it a failure.\n",
    "3. It is suggested to drop background markers with the `dropMarkers` option as they can interfere with classifiers.\n",
    "4. `RobustScale`: Scaling the data before training the classifier model has been shown to improve results. However, in our experience a simple log transformation was found to be sufficient. "
   ]
  },
  {
   "cell_type": "code",
   "execution_count": 3,
   "metadata": {},
   "outputs": [],
   "source": [
    "# set the working directory & set paths to the example data\n",
    "cwd = '/Users/aj/Desktop/gatorExampleData'\n",
    "gatorObject = cwd + '/GATOR/gatorObject/exampleProbabiltyMap.ome.h5ad'"
   ]
  },
  {
   "cell_type": "code",
   "execution_count": 4,
   "metadata": {},
   "outputs": [],
   "source": [
    "adata = ga.gator ( gatorObject=gatorObject,\n",
    "                    DLScore='DLScore',\n",
    "                    minAbundance=0.002,\n",
    "                    percentiles=[1, 20, 80, 99],\n",
    "                    dropMarkers = None,\n",
    "                    RobustScale=False,\n",
    "                    log=True,\n",
    "                    x_coordinate='X_centroid',\n",
    "                    y_coordinate='Y_centroid',\n",
    "                    imageid='imageid',\n",
    "                    random_state=0,\n",
    "                    rescaleMethod='sigmoid',\n",
    "                    label='gatorOutput',\n",
    "                    silent=True,\n",
    "                    outputDir=cwd)"
   ]
  },
  {
   "attachments": {},
   "cell_type": "markdown",
   "metadata": {},
   "source": [
    "**Same function if the user wants to run it via Command Line Interface**\n",
    "```\n",
    "python gator.py --gatorObject /Users/aj/Desktop/gatorExampleData/GATOR/gatorObject/exampleProbabiltyMap.ome.h5ad --outputDir /Users/aj/Desktop/gatorExampleData\n",
    "```"
   ]
  },
  {
   "attachments": {},
   "cell_type": "markdown",
   "metadata": {},
   "source": [
    "### If `outputDir` is provided, modified anndata object with results (stored in `adata.uns['gatorOutput']`) will be saved in `GATOR/gatorOutput/`. The gator-scaled data (stored in `adata.X`) considers cells above 0.5 as positive and below 0.5 as negative for the marker."
   ]
  },
  {
   "attachments": {},
   "cell_type": "markdown",
   "metadata": {},
   "source": [
    "## Step-3: Merge multiple Gator objects (optional)"
   ]
  },
  {
   "attachments": {},
   "cell_type": "markdown",
   "metadata": {},
   "source": [
    "### Use `mergeGatorObject` to combine multiple gatorObjects into a dataset for analysis when multiple images need to be analyzed.\n",
    "\n",
    "### Note that merging gatorObjects requires merging multiple sections, not simple concatenation. Use parameters to specify which parts of the gatorObjects to merge."
   ]
  },
  {
   "cell_type": "code",
   "execution_count": 2,
   "metadata": {},
   "outputs": [],
   "source": [
    "# set the working directory & set paths to the example data\n",
    "cwd = '/Users/aj/Desktop/gatorExampleData'\n",
    "gatorObjects = [cwd + '/GATOR/gatorOutput/exampleProbabiltyMap.ome.h5ad',\n",
    "                cwd + '/GATOR/gatorOutput/exampleProbabiltyMap.ome.h5ad']"
   ]
  },
  {
   "cell_type": "code",
   "execution_count": 3,
   "metadata": {},
   "outputs": [
    {
     "name": "stdout",
     "output_type": "stream",
     "text": [
      "Extracting data\n",
      "Extracting data from: exampleSpatialTable\n",
      "Extracting data from: exampleSpatialTable\n"
     ]
    },
    {
     "name": "stderr",
     "output_type": "stream",
     "text": [
      "/opt/anaconda3/envs/gator/lib/python3.9/site-packages/anndata/_core/anndata.py:1828: UserWarning: Observation names are not unique. To make them unique, call `.obs_names_make_unique`.\n",
      "  utils.warn_names_duplicates(\"obs\")\n"
     ]
    }
   ],
   "source": [
    "# For this tutorial, supply the same gatorObject twice for merging, but multiple gatorObjects can be merged in ideal conditions.\n",
    "adata = ga.mergeGatorObject ( gatorObjects=gatorObjects,\n",
    "                              fileName='mergedGatorObject',\n",
    "                              layers=['preProcessed'],\n",
    "                              uns= ['gatorOutput','DLScore'],\n",
    "                              outputDir=cwd)"
   ]
  },
  {
   "attachments": {},
   "cell_type": "markdown",
   "metadata": {},
   "source": [
    "**Same function if the user wants to run it via Command Line Interface**\n",
    "```\n",
    "python mergeGatorObject.py --gatorObjects /Users/aj/Desktop/gatorExampleData/GATOR/gatorOutput/exampleProbabiltyMap.ome.h5ad /Users/aj/Desktop/gatorExampleData/GATOR/gatorOutput/exampleProbabiltyMap.ome.h5ad --outputDir /Users/aj/Desktop/gatorExampleData\n",
    "```"
   ]
  },
  {
   "attachments": {},
   "cell_type": "markdown",
   "metadata": {},
   "source": [
    "### If `outputDir` is provided, modified anndata object with results will be saved in `GATOR/mergedGatorObject/`."
   ]
  }
 ],
 "metadata": {
  "kernelspec": {
   "display_name": "Python 3",
   "language": "python",
   "name": "python3"
  },
  "language_info": {
   "codemirror_mode": {
    "name": "ipython",
    "version": 3
   },
   "file_extension": ".py",
   "mimetype": "text/x-python",
   "name": "python",
   "nbconvert_exporter": "python",
   "pygments_lexer": "ipython3",
   "version": "3.9.13 (tags/v3.9.13:6de2ca5, May 17 2022, 16:36:42) [MSC v.1929 64 bit (AMD64)]"
  },
  "orig_nbformat": 4,
  "vscode": {
   "interpreter": {
    "hash": "4d975fac4fcc437c670ab44b5da89fd54fa784afb4bff9f75c9477844a77bbbe"
   }
  }
 },
 "nbformat": 4,
 "nbformat_minor": 2
}
